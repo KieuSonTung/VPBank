{
 "cells": [
  {
   "cell_type": "code",
   "execution_count": 1,
   "metadata": {},
   "outputs": [],
   "source": [
    "import sys\n",
    "sys.path.append('..')"
   ]
  },
  {
   "cell_type": "code",
   "execution_count": 2,
   "metadata": {},
   "outputs": [
    {
     "name": "stderr",
     "output_type": "stream",
     "text": [
      "/Users/kieusontung/Library/CloudStorage/OneDrive-Personal/Work/VPBank/VPBank/.venv/lib/python3.9/site-packages/tqdm/auto.py:21: TqdmWarning: IProgress not found. Please update jupyter and ipywidgets. See https://ipywidgets.readthedocs.io/en/stable/user_install.html\n",
      "  from .autonotebook import tqdm as notebook_tqdm\n"
     ]
    }
   ],
   "source": [
    "import pandas as pd\n",
    "import numpy as np\n",
    "import matplotlib.pyplot as plt\n",
    "import seaborn as sns\n",
    "import mlflow\n",
    "\n",
    "from src.preprocess import preprocess_pipeline"
   ]
  },
  {
   "cell_type": "markdown",
   "metadata": {},
   "source": [
    "### Load data"
   ]
  },
  {
   "cell_type": "code",
   "execution_count": 3,
   "metadata": {},
   "outputs": [],
   "source": [
    "train = pd.read_excel('../dataset/train.xlsx')\n",
    "test = pd.read_excel('../dataset/test.xlsx')"
   ]
  },
  {
   "cell_type": "code",
   "execution_count": 4,
   "metadata": {},
   "outputs": [
    {
     "data": {
      "text/html": [
       "<div>\n",
       "<style scoped>\n",
       "    .dataframe tbody tr th:only-of-type {\n",
       "        vertical-align: middle;\n",
       "    }\n",
       "\n",
       "    .dataframe tbody tr th {\n",
       "        vertical-align: top;\n",
       "    }\n",
       "\n",
       "    .dataframe thead th {\n",
       "        text-align: right;\n",
       "    }\n",
       "</style>\n",
       "<table border=\"1\" class=\"dataframe\">\n",
       "  <thead>\n",
       "    <tr style=\"text-align: right;\">\n",
       "      <th></th>\n",
       "      <th>id</th>\n",
       "      <th>age</th>\n",
       "      <th>sector</th>\n",
       "      <th>edu</th>\n",
       "      <th>marital_status</th>\n",
       "      <th>field</th>\n",
       "      <th>family_rel</th>\n",
       "      <th>gender</th>\n",
       "      <th>investment_gain</th>\n",
       "      <th>investment_loss</th>\n",
       "      <th>working_hours</th>\n",
       "      <th>high_income</th>\n",
       "    </tr>\n",
       "  </thead>\n",
       "  <tbody>\n",
       "    <tr>\n",
       "      <th>0</th>\n",
       "      <td>1</td>\n",
       "      <td>39</td>\n",
       "      <td>State-gov</td>\n",
       "      <td>Bachelors</td>\n",
       "      <td>Never-married</td>\n",
       "      <td>Adm-clerical</td>\n",
       "      <td>Not-in-family</td>\n",
       "      <td>Male</td>\n",
       "      <td>2174</td>\n",
       "      <td>0</td>\n",
       "      <td>40</td>\n",
       "      <td>no</td>\n",
       "    </tr>\n",
       "    <tr>\n",
       "      <th>1</th>\n",
       "      <td>2</td>\n",
       "      <td>50</td>\n",
       "      <td>Self-emp-not-inc</td>\n",
       "      <td>Bachelors</td>\n",
       "      <td>Married-civ-spouse</td>\n",
       "      <td>Exec-managerial</td>\n",
       "      <td>Husband</td>\n",
       "      <td>Male</td>\n",
       "      <td>0</td>\n",
       "      <td>0</td>\n",
       "      <td>13</td>\n",
       "      <td>no</td>\n",
       "    </tr>\n",
       "    <tr>\n",
       "      <th>2</th>\n",
       "      <td>3</td>\n",
       "      <td>38</td>\n",
       "      <td>Private</td>\n",
       "      <td>HS-grad</td>\n",
       "      <td>Divorced</td>\n",
       "      <td>Handlers-cleaners</td>\n",
       "      <td>Not-in-family</td>\n",
       "      <td>Male</td>\n",
       "      <td>0</td>\n",
       "      <td>0</td>\n",
       "      <td>40</td>\n",
       "      <td>no</td>\n",
       "    </tr>\n",
       "    <tr>\n",
       "      <th>3</th>\n",
       "      <td>4</td>\n",
       "      <td>53</td>\n",
       "      <td>Private</td>\n",
       "      <td>11th</td>\n",
       "      <td>Married-civ-spouse</td>\n",
       "      <td>Handlers-cleaners</td>\n",
       "      <td>Husband</td>\n",
       "      <td>Male</td>\n",
       "      <td>0</td>\n",
       "      <td>0</td>\n",
       "      <td>40</td>\n",
       "      <td>no</td>\n",
       "    </tr>\n",
       "    <tr>\n",
       "      <th>4</th>\n",
       "      <td>5</td>\n",
       "      <td>28</td>\n",
       "      <td>Private</td>\n",
       "      <td>Bachelors</td>\n",
       "      <td>Married-civ-spouse</td>\n",
       "      <td>Prof-specialty</td>\n",
       "      <td>Wife</td>\n",
       "      <td>Female</td>\n",
       "      <td>0</td>\n",
       "      <td>0</td>\n",
       "      <td>40</td>\n",
       "      <td>no</td>\n",
       "    </tr>\n",
       "  </tbody>\n",
       "</table>\n",
       "</div>"
      ],
      "text/plain": [
       "   id  age             sector         edu       marital_status  \\\n",
       "0   1   39          State-gov   Bachelors        Never-married   \n",
       "1   2   50   Self-emp-not-inc   Bachelors   Married-civ-spouse   \n",
       "2   3   38            Private     HS-grad             Divorced   \n",
       "3   4   53            Private        11th   Married-civ-spouse   \n",
       "4   5   28            Private   Bachelors   Married-civ-spouse   \n",
       "\n",
       "                field      family_rel   gender  investment_gain  \\\n",
       "0        Adm-clerical   Not-in-family     Male             2174   \n",
       "1     Exec-managerial         Husband     Male                0   \n",
       "2   Handlers-cleaners   Not-in-family     Male                0   \n",
       "3   Handlers-cleaners         Husband     Male                0   \n",
       "4      Prof-specialty            Wife   Female                0   \n",
       "\n",
       "   investment_loss  working_hours high_income  \n",
       "0                0             40          no  \n",
       "1                0             13          no  \n",
       "2                0             40          no  \n",
       "3                0             40          no  \n",
       "4                0             40          no  "
      ]
     },
     "execution_count": 4,
     "metadata": {},
     "output_type": "execute_result"
    }
   ],
   "source": [
    "train.head()"
   ]
  },
  {
   "cell_type": "code",
   "execution_count": 5,
   "metadata": {},
   "outputs": [
    {
     "data": {
      "text/html": [
       "<div>\n",
       "<style scoped>\n",
       "    .dataframe tbody tr th:only-of-type {\n",
       "        vertical-align: middle;\n",
       "    }\n",
       "\n",
       "    .dataframe tbody tr th {\n",
       "        vertical-align: top;\n",
       "    }\n",
       "\n",
       "    .dataframe thead th {\n",
       "        text-align: right;\n",
       "    }\n",
       "</style>\n",
       "<table border=\"1\" class=\"dataframe\">\n",
       "  <thead>\n",
       "    <tr style=\"text-align: right;\">\n",
       "      <th></th>\n",
       "      <th>id</th>\n",
       "      <th>age</th>\n",
       "      <th>sector</th>\n",
       "      <th>edu</th>\n",
       "      <th>marital_status</th>\n",
       "      <th>field</th>\n",
       "      <th>family_rel</th>\n",
       "      <th>gender</th>\n",
       "      <th>investment_gain</th>\n",
       "      <th>investment_loss</th>\n",
       "      <th>working_hours</th>\n",
       "    </tr>\n",
       "  </thead>\n",
       "  <tbody>\n",
       "    <tr>\n",
       "      <th>0</th>\n",
       "      <td>32562</td>\n",
       "      <td>25</td>\n",
       "      <td>Private</td>\n",
       "      <td>11th</td>\n",
       "      <td>Never-married</td>\n",
       "      <td>Machine-op-inspct</td>\n",
       "      <td>Own-child</td>\n",
       "      <td>Male</td>\n",
       "      <td>0</td>\n",
       "      <td>0</td>\n",
       "      <td>40</td>\n",
       "    </tr>\n",
       "    <tr>\n",
       "      <th>1</th>\n",
       "      <td>32563</td>\n",
       "      <td>38</td>\n",
       "      <td>Private</td>\n",
       "      <td>HS-grad</td>\n",
       "      <td>Married-civ-spouse</td>\n",
       "      <td>Farming-fishing</td>\n",
       "      <td>Husband</td>\n",
       "      <td>Male</td>\n",
       "      <td>0</td>\n",
       "      <td>0</td>\n",
       "      <td>50</td>\n",
       "    </tr>\n",
       "    <tr>\n",
       "      <th>2</th>\n",
       "      <td>32564</td>\n",
       "      <td>28</td>\n",
       "      <td>Local-gov</td>\n",
       "      <td>Assoc-acdm</td>\n",
       "      <td>Married-civ-spouse</td>\n",
       "      <td>Protective-serv</td>\n",
       "      <td>Husband</td>\n",
       "      <td>Male</td>\n",
       "      <td>0</td>\n",
       "      <td>0</td>\n",
       "      <td>40</td>\n",
       "    </tr>\n",
       "    <tr>\n",
       "      <th>3</th>\n",
       "      <td>32565</td>\n",
       "      <td>44</td>\n",
       "      <td>Private</td>\n",
       "      <td>Some-college</td>\n",
       "      <td>Married-civ-spouse</td>\n",
       "      <td>Machine-op-inspct</td>\n",
       "      <td>Husband</td>\n",
       "      <td>Male</td>\n",
       "      <td>7688</td>\n",
       "      <td>0</td>\n",
       "      <td>40</td>\n",
       "    </tr>\n",
       "    <tr>\n",
       "      <th>4</th>\n",
       "      <td>32566</td>\n",
       "      <td>18</td>\n",
       "      <td>?</td>\n",
       "      <td>Some-college</td>\n",
       "      <td>Never-married</td>\n",
       "      <td>?</td>\n",
       "      <td>Own-child</td>\n",
       "      <td>Female</td>\n",
       "      <td>0</td>\n",
       "      <td>0</td>\n",
       "      <td>30</td>\n",
       "    </tr>\n",
       "  </tbody>\n",
       "</table>\n",
       "</div>"
      ],
      "text/plain": [
       "      id  age      sector            edu       marital_status  \\\n",
       "0  32562   25     Private           11th        Never-married   \n",
       "1  32563   38     Private        HS-grad   Married-civ-spouse   \n",
       "2  32564   28   Local-gov     Assoc-acdm   Married-civ-spouse   \n",
       "3  32565   44     Private   Some-college   Married-civ-spouse   \n",
       "4  32566   18           ?   Some-college        Never-married   \n",
       "\n",
       "                field  family_rel   gender  investment_gain  investment_loss  \\\n",
       "0   Machine-op-inspct   Own-child     Male                0                0   \n",
       "1     Farming-fishing     Husband     Male                0                0   \n",
       "2     Protective-serv     Husband     Male                0                0   \n",
       "3   Machine-op-inspct     Husband     Male             7688                0   \n",
       "4                   ?   Own-child   Female                0                0   \n",
       "\n",
       "   working_hours  \n",
       "0             40  \n",
       "1             50  \n",
       "2             40  \n",
       "3             40  \n",
       "4             30  "
      ]
     },
     "execution_count": 5,
     "metadata": {},
     "output_type": "execute_result"
    }
   ],
   "source": [
    "test.head()"
   ]
  },
  {
   "cell_type": "markdown",
   "metadata": {},
   "source": [
    "### Set up"
   ]
  },
  {
   "cell_type": "code",
   "execution_count": 6,
   "metadata": {},
   "outputs": [],
   "source": [
    "mlflow.set_tracking_uri(\"http://127.0.0.1:5000\")"
   ]
  },
  {
   "cell_type": "code",
   "execution_count": 7,
   "metadata": {},
   "outputs": [],
   "source": [
    "def get_or_create_experiment(experiment_name):\n",
    "    \"\"\"\n",
    "    Retrieve the ID of an existing MLflow experiment or create a new one if it doesn't exist.\n",
    "\n",
    "    This function checks if an experiment with the given name exists within MLflow.\n",
    "    If it does, the function returns its ID. If not, it creates a new experiment\n",
    "    with the provided name and returns its ID.\n",
    "\n",
    "    Parameters:\n",
    "    - experiment_name (str): Name of the MLflow experiment.\n",
    "\n",
    "    Returns:\n",
    "    - str: ID of the existing or newly created MLflow experiment.\n",
    "    \"\"\"\n",
    "\n",
    "    if experiment := mlflow.get_experiment_by_name(experiment_name):\n",
    "        return experiment.experiment_id\n",
    "    else:\n",
    "        return mlflow.create_experiment(experiment_name)"
   ]
  },
  {
   "cell_type": "code",
   "execution_count": 8,
   "metadata": {},
   "outputs": [
    {
     "data": {
      "text/plain": [
       "'830608866115791988'"
      ]
     },
     "execution_count": 8,
     "metadata": {},
     "output_type": "execute_result"
    }
   ],
   "source": [
    "experiment_id = get_or_create_experiment('vpbank_test')\n",
    "experiment_id"
   ]
  },
  {
   "cell_type": "code",
   "execution_count": 9,
   "metadata": {},
   "outputs": [
    {
     "data": {
      "text/plain": [
       "<Experiment: artifact_location='mlflow-artifacts:/830608866115791988', creation_time=1725184250620, experiment_id='830608866115791988', last_update_time=1725184250620, lifecycle_stage='active', name='vpbank_test', tags={}>"
      ]
     },
     "execution_count": 9,
     "metadata": {},
     "output_type": "execute_result"
    }
   ],
   "source": [
    "mlflow.set_experiment(experiment_id=experiment_id)"
   ]
  },
  {
   "cell_type": "code",
   "execution_count": 10,
   "metadata": {},
   "outputs": [],
   "source": [
    "### Preprocess\n",
    "train = preprocess_pipeline(train)"
   ]
  },
  {
   "cell_type": "code",
   "execution_count": 11,
   "metadata": {},
   "outputs": [],
   "source": [
    "### Train\n",
    "from src.model.lgbm import LGBM\n",
    "\n",
    "model = LGBM(train)"
   ]
  },
  {
   "cell_type": "code",
   "execution_count": 12,
   "metadata": {},
   "outputs": [
    {
     "name": "stderr",
     "output_type": "stream",
     "text": [
      "[I 2024-09-02 15:29:29,064] A new study created in memory with name: no-name-25c3de94-6da0-4d4a-9692-2c795f03ed22\n",
      "/Users/kieusontung/Library/CloudStorage/OneDrive-Personal/Work/VPBank/VPBank/.venv/lib/python3.9/site-packages/optuna/distributions.py:700: UserWarning: The distribution is specified by [50, 1000] and step=20, but the range is not divisible by `step`. It will be replaced by [50, 990].\n",
      "  warnings.warn(\n",
      "/Users/kieusontung/Library/CloudStorage/OneDrive-Personal/Work/VPBank/VPBank/.venv/lib/python3.9/site-packages/optuna/distributions.py:685: UserWarning: The distribution is specified by [0.2, 0.95] and step=0.1, but the range is not divisible by `step`. It will be replaced by [0.2, 0.9].\n",
      "  warnings.warn(\n",
      "/Users/kieusontung/Library/CloudStorage/OneDrive-Personal/Work/VPBank/VPBank/.venv/lib/python3.9/site-packages/optuna/trial/_trial.py:676: RuntimeWarning: Inconsistent parameter values for distribution with name \"feature_fraction\"! This might be a configuration mistake. Optuna allows to call the same distribution with the same name more than once in a trial. When the parameter values are inconsistent optuna only uses the values of the first call and ignores all following. Using these values: {'step': 0.1, 'low': 0.4, 'high': 1.0, 'log': False}\n",
      "  warnings.warn(\n",
      "/Users/kieusontung/Library/CloudStorage/OneDrive-Personal/Work/VPBank/VPBank/.venv/lib/python3.9/site-packages/lightgbm/engine.py:204: UserWarning: Found `n_estimators` in params. Will use it instead of argument\n",
      "  _log_warning(f\"Found `{alias}` in params. Will use it instead of argument\")\n"
     ]
    },
    {
     "name": "stdout",
     "output_type": "stream",
     "text": [
      "ENCODING TRAIN SET...\n",
      "ENCODING TEST SET...\n",
      "ENCODING TRAIN SET...\n",
      "ENCODING TEST SET...\n"
     ]
    },
    {
     "name": "stderr",
     "output_type": "stream",
     "text": [
      "/Users/kieusontung/Library/CloudStorage/OneDrive-Personal/Work/VPBank/VPBank/.venv/lib/python3.9/site-packages/lightgbm/engine.py:204: UserWarning: Found `n_estimators` in params. Will use it instead of argument\n",
      "  _log_warning(f\"Found `{alias}` in params. Will use it instead of argument\")\n"
     ]
    },
    {
     "name": "stdout",
     "output_type": "stream",
     "text": [
      "ENCODING TRAIN SET...\n",
      "ENCODING TEST SET...\n"
     ]
    },
    {
     "name": "stderr",
     "output_type": "stream",
     "text": [
      "/Users/kieusontung/Library/CloudStorage/OneDrive-Personal/Work/VPBank/VPBank/.venv/lib/python3.9/site-packages/lightgbm/engine.py:204: UserWarning: Found `n_estimators` in params. Will use it instead of argument\n",
      "  _log_warning(f\"Found `{alias}` in params. Will use it instead of argument\")\n"
     ]
    },
    {
     "name": "stdout",
     "output_type": "stream",
     "text": [
      "ENCODING TRAIN SET...\n",
      "ENCODING TEST SET...\n"
     ]
    },
    {
     "name": "stderr",
     "output_type": "stream",
     "text": [
      "/Users/kieusontung/Library/CloudStorage/OneDrive-Personal/Work/VPBank/VPBank/.venv/lib/python3.9/site-packages/lightgbm/engine.py:204: UserWarning: Found `n_estimators` in params. Will use it instead of argument\n",
      "  _log_warning(f\"Found `{alias}` in params. Will use it instead of argument\")\n",
      "[I 2024-09-02 15:29:50,014] Trial 0 finished with value: 0.5241444605643579 and parameters: {'lambda_l1': 0.0007488187346087981, 'lambda_l2': 0.07187866501923688, 'num_leaves': 830, 'feature_fraction': 0.5, 'bagging_fraction': 0.8, 'bagging_freq': 3, 'min_child_samples': 41, 'n_estimators': 10000, 'learning_rate': 0.1442387927498383, 'max_depth': 4, 'min_data_in_leaf': 5900, 'max_bin': 292, 'min_gain_to_split': 11.34760977453469}. Best is trial 0 with value: 0.5241444605643579.\n"
     ]
    },
    {
     "name": "stdout",
     "output_type": "stream",
     "text": [
      "TRAIN: Trial 0 - Accuracy: 0.8140100327600328, F1: 0.5247160260031796, Precision: 0.6816755773034662, Recall: 0.4265285545403791, AUC: 0.8351295073698213\n",
      "VALID: Trial 0 - Accuracy: 0.8136901105651105, F1: 0.5241444605643579, Precision: 0.6801649183903526, Recall: 0.42647949415886327, AUC: 0.834462552179537\n",
      "ENCODING TRAIN SET...\n",
      "ENCODING TEST SET...\n"
     ]
    },
    {
     "name": "stderr",
     "output_type": "stream",
     "text": [
      "/Users/kieusontung/Library/CloudStorage/OneDrive-Personal/Work/VPBank/VPBank/.venv/lib/python3.9/site-packages/optuna/distributions.py:700: UserWarning: The distribution is specified by [50, 1000] and step=20, but the range is not divisible by `step`. It will be replaced by [50, 990].\n",
      "  warnings.warn(\n",
      "/Users/kieusontung/Library/CloudStorage/OneDrive-Personal/Work/VPBank/VPBank/.venv/lib/python3.9/site-packages/optuna/distributions.py:685: UserWarning: The distribution is specified by [0.2, 0.95] and step=0.1, but the range is not divisible by `step`. It will be replaced by [0.2, 0.9].\n",
      "  warnings.warn(\n",
      "/Users/kieusontung/Library/CloudStorage/OneDrive-Personal/Work/VPBank/VPBank/.venv/lib/python3.9/site-packages/optuna/trial/_trial.py:676: RuntimeWarning: Inconsistent parameter values for distribution with name \"feature_fraction\"! This might be a configuration mistake. Optuna allows to call the same distribution with the same name more than once in a trial. When the parameter values are inconsistent optuna only uses the values of the first call and ignores all following. Using these values: {'step': 0.1, 'low': 0.4, 'high': 1.0, 'log': False}\n",
      "  warnings.warn(\n",
      "/Users/kieusontung/Library/CloudStorage/OneDrive-Personal/Work/VPBank/VPBank/.venv/lib/python3.9/site-packages/lightgbm/engine.py:204: UserWarning: Found `n_estimators` in params. Will use it instead of argument\n",
      "  _log_warning(f\"Found `{alias}` in params. Will use it instead of argument\")\n"
     ]
    },
    {
     "name": "stdout",
     "output_type": "stream",
     "text": [
      "ENCODING TRAIN SET...\n",
      "ENCODING TEST SET...\n"
     ]
    },
    {
     "name": "stderr",
     "output_type": "stream",
     "text": [
      "/Users/kieusontung/Library/CloudStorage/OneDrive-Personal/Work/VPBank/VPBank/.venv/lib/python3.9/site-packages/lightgbm/engine.py:204: UserWarning: Found `n_estimators` in params. Will use it instead of argument\n",
      "  _log_warning(f\"Found `{alias}` in params. Will use it instead of argument\")\n"
     ]
    },
    {
     "name": "stdout",
     "output_type": "stream",
     "text": [
      "ENCODING TRAIN SET...\n",
      "ENCODING TEST SET...\n"
     ]
    },
    {
     "name": "stderr",
     "output_type": "stream",
     "text": [
      "/Users/kieusontung/Library/CloudStorage/OneDrive-Personal/Work/VPBank/VPBank/.venv/lib/python3.9/site-packages/lightgbm/engine.py:204: UserWarning: Found `n_estimators` in params. Will use it instead of argument\n",
      "  _log_warning(f\"Found `{alias}` in params. Will use it instead of argument\")\n"
     ]
    },
    {
     "name": "stdout",
     "output_type": "stream",
     "text": [
      "ENCODING TRAIN SET...\n",
      "ENCODING TEST SET...\n"
     ]
    },
    {
     "name": "stderr",
     "output_type": "stream",
     "text": [
      "/Users/kieusontung/Library/CloudStorage/OneDrive-Personal/Work/VPBank/VPBank/.venv/lib/python3.9/site-packages/lightgbm/engine.py:204: UserWarning: Found `n_estimators` in params. Will use it instead of argument\n",
      "  _log_warning(f\"Found `{alias}` in params. Will use it instead of argument\")\n",
      "[I 2024-09-02 15:30:11,417] Trial 1 finished with value: 0.3411977085351929 and parameters: {'lambda_l1': 0.0010910866201596558, 'lambda_l2': 9.557167022613521, 'num_leaves': 430, 'feature_fraction': 0.4, 'bagging_fraction': 0.9, 'bagging_freq': 5, 'min_child_samples': 96, 'n_estimators': 10000, 'learning_rate': 0.287654901662711, 'max_depth': 9, 'min_data_in_leaf': 7500, 'max_bin': 201, 'min_gain_to_split': 9.865229452568968}. Best is trial 0 with value: 0.5241444605643579.\n"
     ]
    },
    {
     "name": "stdout",
     "output_type": "stream",
     "text": [
      "TRAIN: Trial 1 - Accuracy: 0.7895423832923834, F1: 0.3448761642331404, Precision: 0.6800085641704205, Recall: 0.23800676383021308, AUC: 0.8140683157038081\n",
      "VALID: Trial 1 - Accuracy: 0.789004914004914, F1: 0.3411977085351929, Precision: 0.6772250978276824, Recall: 0.23622253623849027, AUC: 0.8137835564169972\n",
      "ENCODING TRAIN SET...\n",
      "ENCODING TEST SET...\n"
     ]
    },
    {
     "name": "stderr",
     "output_type": "stream",
     "text": [
      "/Users/kieusontung/Library/CloudStorage/OneDrive-Personal/Work/VPBank/VPBank/.venv/lib/python3.9/site-packages/optuna/distributions.py:700: UserWarning: The distribution is specified by [50, 1000] and step=20, but the range is not divisible by `step`. It will be replaced by [50, 990].\n",
      "  warnings.warn(\n",
      "/Users/kieusontung/Library/CloudStorage/OneDrive-Personal/Work/VPBank/VPBank/.venv/lib/python3.9/site-packages/optuna/distributions.py:685: UserWarning: The distribution is specified by [0.2, 0.95] and step=0.1, but the range is not divisible by `step`. It will be replaced by [0.2, 0.9].\n",
      "  warnings.warn(\n",
      "/Users/kieusontung/Library/CloudStorage/OneDrive-Personal/Work/VPBank/VPBank/.venv/lib/python3.9/site-packages/optuna/trial/_trial.py:676: RuntimeWarning: Inconsistent parameter values for distribution with name \"feature_fraction\"! This might be a configuration mistake. Optuna allows to call the same distribution with the same name more than once in a trial. When the parameter values are inconsistent optuna only uses the values of the first call and ignores all following. Using these values: {'step': 0.1, 'low': 0.4, 'high': 1.0, 'log': False}\n",
      "  warnings.warn(\n",
      "/Users/kieusontung/Library/CloudStorage/OneDrive-Personal/Work/VPBank/VPBank/.venv/lib/python3.9/site-packages/lightgbm/engine.py:204: UserWarning: Found `n_estimators` in params. Will use it instead of argument\n",
      "  _log_warning(f\"Found `{alias}` in params. Will use it instead of argument\")\n",
      "/Users/kieusontung/Library/CloudStorage/OneDrive-Personal/Work/VPBank/VPBank/.venv/lib/python3.9/site-packages/sklearn/metrics/_classification.py:1517: UndefinedMetricWarning: Precision is ill-defined and being set to 0.0 due to no predicted samples. Use `zero_division` parameter to control this behavior.\n",
      "  _warn_prf(average, modifier, f\"{metric.capitalize()} is\", len(result))\n",
      "/Users/kieusontung/Library/CloudStorage/OneDrive-Personal/Work/VPBank/VPBank/.venv/lib/python3.9/site-packages/sklearn/metrics/_classification.py:1517: UndefinedMetricWarning: Precision is ill-defined and being set to 0.0 due to no predicted samples. Use `zero_division` parameter to control this behavior.\n",
      "  _warn_prf(average, modifier, f\"{metric.capitalize()} is\", len(result))\n",
      "/Users/kieusontung/Library/CloudStorage/OneDrive-Personal/Work/VPBank/VPBank/.venv/lib/python3.9/site-packages/lightgbm/engine.py:204: UserWarning: Found `n_estimators` in params. Will use it instead of argument\n",
      "  _log_warning(f\"Found `{alias}` in params. Will use it instead of argument\")\n"
     ]
    },
    {
     "name": "stdout",
     "output_type": "stream",
     "text": [
      "ENCODING TRAIN SET...\n",
      "ENCODING TEST SET...\n"
     ]
    },
    {
     "name": "stderr",
     "output_type": "stream",
     "text": [
      "/Users/kieusontung/Library/CloudStorage/OneDrive-Personal/Work/VPBank/VPBank/.venv/lib/python3.9/site-packages/sklearn/metrics/_classification.py:1517: UndefinedMetricWarning: Precision is ill-defined and being set to 0.0 due to no predicted samples. Use `zero_division` parameter to control this behavior.\n",
      "  _warn_prf(average, modifier, f\"{metric.capitalize()} is\", len(result))\n",
      "/Users/kieusontung/Library/CloudStorage/OneDrive-Personal/Work/VPBank/VPBank/.venv/lib/python3.9/site-packages/sklearn/metrics/_classification.py:1517: UndefinedMetricWarning: Precision is ill-defined and being set to 0.0 due to no predicted samples. Use `zero_division` parameter to control this behavior.\n",
      "  _warn_prf(average, modifier, f\"{metric.capitalize()} is\", len(result))\n",
      "/Users/kieusontung/Library/CloudStorage/OneDrive-Personal/Work/VPBank/VPBank/.venv/lib/python3.9/site-packages/lightgbm/engine.py:204: UserWarning: Found `n_estimators` in params. Will use it instead of argument\n",
      "  _log_warning(f\"Found `{alias}` in params. Will use it instead of argument\")\n"
     ]
    },
    {
     "name": "stdout",
     "output_type": "stream",
     "text": [
      "ENCODING TRAIN SET...\n",
      "ENCODING TEST SET...\n"
     ]
    },
    {
     "name": "stderr",
     "output_type": "stream",
     "text": [
      "/Users/kieusontung/Library/CloudStorage/OneDrive-Personal/Work/VPBank/VPBank/.venv/lib/python3.9/site-packages/sklearn/metrics/_classification.py:1517: UndefinedMetricWarning: Precision is ill-defined and being set to 0.0 due to no predicted samples. Use `zero_division` parameter to control this behavior.\n",
      "  _warn_prf(average, modifier, f\"{metric.capitalize()} is\", len(result))\n",
      "/Users/kieusontung/Library/CloudStorage/OneDrive-Personal/Work/VPBank/VPBank/.venv/lib/python3.9/site-packages/sklearn/metrics/_classification.py:1517: UndefinedMetricWarning: Precision is ill-defined and being set to 0.0 due to no predicted samples. Use `zero_division` parameter to control this behavior.\n",
      "  _warn_prf(average, modifier, f\"{metric.capitalize()} is\", len(result))\n",
      "/Users/kieusontung/Library/CloudStorage/OneDrive-Personal/Work/VPBank/VPBank/.venv/lib/python3.9/site-packages/lightgbm/engine.py:204: UserWarning: Found `n_estimators` in params. Will use it instead of argument\n",
      "  _log_warning(f\"Found `{alias}` in params. Will use it instead of argument\")\n"
     ]
    },
    {
     "name": "stdout",
     "output_type": "stream",
     "text": [
      "ENCODING TRAIN SET...\n",
      "ENCODING TEST SET...\n"
     ]
    },
    {
     "name": "stderr",
     "output_type": "stream",
     "text": [
      "/Users/kieusontung/Library/CloudStorage/OneDrive-Personal/Work/VPBank/VPBank/.venv/lib/python3.9/site-packages/sklearn/metrics/_classification.py:1517: UndefinedMetricWarning: Precision is ill-defined and being set to 0.0 due to no predicted samples. Use `zero_division` parameter to control this behavior.\n",
      "  _warn_prf(average, modifier, f\"{metric.capitalize()} is\", len(result))\n",
      "/Users/kieusontung/Library/CloudStorage/OneDrive-Personal/Work/VPBank/VPBank/.venv/lib/python3.9/site-packages/sklearn/metrics/_classification.py:1517: UndefinedMetricWarning: Precision is ill-defined and being set to 0.0 due to no predicted samples. Use `zero_division` parameter to control this behavior.\n",
      "  _warn_prf(average, modifier, f\"{metric.capitalize()} is\", len(result))\n",
      "[I 2024-09-02 15:30:36,930] Trial 2 finished with value: 0.0 and parameters: {'lambda_l1': 0.0006913786942189071, 'lambda_l2': 0.059363764327395825, 'num_leaves': 650, 'feature_fraction': 1.0, 'bagging_fraction': 0.4, 'bagging_freq': 7, 'min_child_samples': 58, 'n_estimators': 10000, 'learning_rate': 0.04066455417286673, 'max_depth': 5, 'min_data_in_leaf': 10000, 'max_bin': 209, 'min_gain_to_split': 0.5839761944915045}. Best is trial 0 with value: 0.5241444605643579.\n"
     ]
    },
    {
     "name": "stdout",
     "output_type": "stream",
     "text": [
      "TRAIN: Trial 2 - Accuracy: 0.7592905405405406, F1: 0.0, Precision: 0.0, Recall: 0.0, AUC: 0.5\n",
      "VALID: Trial 2 - Accuracy: 0.7592905405405406, F1: 0.0, Precision: 0.0, Recall: 0.0, AUC: 0.5\n",
      "Number of finished trials: 3\n",
      "Best trial:\n",
      "  Value: 0.5241444605643579\n",
      "ENCODING TEST SET...\n"
     ]
    },
    {
     "data": {
      "image/png": "[encoded data removed]",
      "text/plain": [
       "<Figure size 1000x600 with 1 Axes>"
      ]
     },
     "metadata": {},
     "output_type": "display_data"
    },
    {
     "data": {
      "image/png": "[encoded data removed]",
      "text/plain": [
       "<Figure size 800x600 with 2 Axes>"
      ]
     },
     "metadata": {},
     "output_type": "display_data"
    },
    {
     "data": {
      "image/png": "[encoded data removed]",
      "text/plain": [
       "<Figure size 800x600 with 1 Axes>"
      ]
     },
     "metadata": {},
     "output_type": "display_data"
    }
   ],
   "source": [
    "model.run(n_splits=4, n_trials=3)"
   ]
  },
  {
   "cell_type": "markdown",
   "metadata": {},
   "source": [
    "### Log model artifacts"
   ]
  },
  {
   "cell_type": "code",
   "execution_count": 15,
   "metadata": {},
   "outputs": [
    {
     "data": {
      "text/plain": [
       "{'accuracy': 0.8137571011822509,\n",
       " 'macro_precision': 0.7620689118259936,\n",
       " 'macro_recall': 0.6777660969087371,\n",
       " 'macro_f1_score': 0.7013261009831973}"
      ]
     },
     "execution_count": 15,
     "metadata": {},
     "output_type": "execute_result"
    }
   ],
   "source": [
    "metrics = {}\n",
    "metrics['accuracy'] = model.cls_report['accuracy']\n",
    "metrics['macro_precision'] = model.cls_report['macro avg']['precision']\n",
    "metrics['macro_recall'] = model.cls_report['macro avg']['recall']\n",
    "metrics['macro_f1_score'] = model.cls_report['macro avg']['f1-score']\n",
    "metrics"
   ]
  },
  {
   "cell_type": "code",
   "execution_count": 23,
   "metadata": {},
   "outputs": [
    {
     "name": "stdout",
     "output_type": "stream",
     "text": [
      "ENCODING TRAIN SET...\n"
     ]
    },
    {
     "name": "stderr",
     "output_type": "stream",
     "text": [
      "/Users/kieusontung/Library/CloudStorage/OneDrive-Personal/Work/VPBank/VPBank/.venv/lib/python3.9/site-packages/mlflow/types/utils.py:407: UserWarning: Hint: Inferred schema contains integer column(s). Integer columns in Python cannot represent missing values. If your input data contains missing values at inference time, it will be encoded as floats and will cause a schema enforcement error. The best way to avoid this problem is to infer the model schema based on a realistic data sample (training dataset) that includes missing values. Alternatively, you can declare integer columns as doubles (float64) whenever these columns may have missing values. See `Handling Integers With Missing Values <https://www.mlflow.org/docs/latest/models.html#handling-integers-with-missing-values>`_ for more details.\n",
      "  warnings.warn(\n"
     ]
    },
    {
     "data": {
      "text/plain": [
       "inputs: \n",
       "  ['id': long (required), 'age': long (required), 'sector': long (required), 'edu': long (required), 'marital_status': long (required), 'field': long (required), 'family_rel': long (required), 'gender': long (required), 'investment_gain': long (required), 'investment_loss': long (required), 'working_hours': long (required), 'edu_new': long (required), 'marital_status_new': long (required)]\n",
       "outputs: \n",
       "  [Tensor('float64', (-1,))]\n",
       "params: \n",
       "  None"
      ]
     },
     "execution_count": 23,
     "metadata": {},
     "output_type": "execute_result"
    }
   ],
   "source": [
    "from mlflow.models import infer_signature\n",
    "from src.preprocess import label_encode_datasets\n",
    "\n",
    "\n",
    "X_train = train.drop('high_income', axis=1).head()\n",
    "X_train = label_encode_datasets(X_train)\n",
    "\n",
    "signature = infer_signature(X_train, model.best_model.predict(X_train))\n",
    "signature"
   ]
  },
  {
   "cell_type": "code",
   "execution_count": 24,
   "metadata": {},
   "outputs": [
    {
     "name": "stderr",
     "output_type": "stream",
     "text": [
      "Downloading artifacts: 100%|██████████| 7/7 [00:00<00:00, 195.49it/s]\n",
      "2024/09/02 15:51:52 INFO mlflow.tracking._tracking_service.client: 🏃 View run orderly-cat-356 at: http://127.0.0.1:5000/#/experiments/830608866115791988/runs/7e62a33fd6db44ee97b8c4de0e7184ab.\n",
      "2024/09/02 15:51:52 INFO mlflow.tracking._tracking_service.client: 🧪 View experiment at: http://127.0.0.1:5000/#/experiments/830608866115791988.\n"
     ]
    }
   ],
   "source": [
    "# Log to MLFlow\n",
    "\n",
    "with mlflow.start_run():\n",
    "    mlflow.log_metrics(metrics)\n",
    "    mlflow.log_params(model.best_params)\n",
    "    mlflow.lightgbm.log_model(\n",
    "        model.best_model,\n",
    "        artifact_path='LightGBM',\n",
    "        signature=signature,\n",
    "        input_example=X_train\n",
    "    )"
   ]
  },
  {
   "cell_type": "markdown",
   "metadata": {},
   "source": [
    "### Register model"
   ]
  },
  {
   "cell_type": "code",
   "execution_count": 17,
   "metadata": {},
   "outputs": [],
   "source": [
    "# model_name = 'LightGBM'\n",
    "# run_id = 'ffd41eb4c3414ff698f2724365ca4370'\n",
    "# model_uri = f'runs:/{run_id}/{model_name}'\n",
    "\n",
    "# result = mlflow.register_model(model_uri, model_name)"
   ]
  }
 ],
 "metadata": {
  "kernelspec": {
   "display_name": "Python 3",
   "language": "python",
   "name": "python3"
  },
  "language_info": {
   "codemirror_mode": {
    "name": "ipython",
    "version": 3
   },
   "file_extension": ".py",
   "mimetype": "text/x-python",
   "name": "python",
   "nbconvert_exporter": "python",
   "pygments_lexer": "ipython3",
   "version": "3.9.6"
  }
 },
 "nbformat": 4,
 "nbformat_minor": 2
}
